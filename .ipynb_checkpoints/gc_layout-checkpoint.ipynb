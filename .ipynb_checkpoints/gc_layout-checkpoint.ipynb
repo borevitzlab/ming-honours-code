{
 "cells": [
  {
   "cell_type": "markdown",
   "metadata": {},
   "source": [
    "# Planting scheme\n",
    "\n",
    "## Basic GC layout\n",
    "Planting will occur in growth chamber (GC) 35. Standard pots, which should fit month-old _Acacia acuminata_ plants, are 60mm x 60mm (top internal width) x 90mm (external height). Trays fit 5x4 of these pots, with the top-right space used for a barcode (19 pots/tray). Additionally, one more space is taken in each half of the chamber for a color calibration card. Each chamber takes 8x2 trays, resulting in a total of 302 pots."
   ]
  },
  {
   "cell_type": "code",
   "execution_count": 5,
   "metadata": {},
   "outputs": [
    {
     "name": "stdout",
     "output_type": "stream",
     "text": [
      "Usable pots: 302 / 320\n"
     ]
    }
   ],
   "source": [
    "pots_per_tray = 20\n",
    "barcodes_per_pot = 1\n",
    "trays_per_gc = 8*2\n",
    "color_checks_per_gc = 2\n",
    "total_usable_pots=(pots_per_tray-barcodes_per_pot)*trays_per_gc-color_checks_per_gc\n",
    "total_pots=pots_per_tray*trays_per_gc\n",
    "print(\"Usable pots:\",total_usable_pots,\"/\",total_pots)"
   ]
  },
  {
   "cell_type": "markdown",
   "metadata": {},
   "source": [
    "In the planting scheme, each pot has an ID. Before we can assign IDs to treatments, we need to note which IDs are reserved for color checkers or barcodes.\n"
   ]
  },
  {
   "cell_type": "code",
   "execution_count": 33,
   "metadata": {},
   "outputs": [
    {
     "name": "stdout",
     "output_type": "stream",
     "text": [
      "Barcode pot IDs: ['20', '40', '60', '80', '100', '120', '140', '160', '180', '200', '220', '240', '260', '280', '300', '320']\n",
      "Color checker pot IDs: ['121', '281']\n",
      "All reserved IDs: ['20', '40', '60', '80', '100', '120', '140', '160', '180', '200', '220', '240', '260', '280', '300', '320', '121', '281']\n"
     ]
    }
   ],
   "source": [
    "barcode_pot_ids = [str(i*20) for i in range(1,trays_per_gc+1)]\n",
    "print(\"Barcode pot IDs:\",barcode_pot_ids)\n",
    "color_ids = ['121', '281'] # standard config\n",
    "print(\"Color checker pot IDs:\",color_ids)\n",
    "reserved_ids = barcode_pot_ids+color_ids\n",
    "print(\"All reserved IDs:\",reserved_ids)"
   ]
  },
  {
   "cell_type": "markdown",
   "metadata": {},
   "source": [
    "## Treatments\n",
    "\n",
    "There are a total of 8 treatments, of which we intend to obtain usable results from 4 treatments."
   ]
  },
  {
   "cell_type": "markdown",
   "metadata": {},
   "source": [
    "| Treatment ID | Inoculation type | Host presence |\n",
    "|--------------|------------------|---------------|\n",
    "| 1            | None (sterile)   | Yes           |\n",
    "| 2            | Soil slurry      | Yes           |\n",
    "| 3            | Culture mix      | Yes           |\n",
    "| 4            | Soil+culture     | Yes           |\n",
    "| 5            | None (sterile)   | No            |\n",
    "| 6            | Soil slurry      | No            |\n",
    "| 7            | Culture mix      | No            |\n",
    "| 8            | Soil+culture     | No            |\n"
   ]
  },
  {
   "cell_type": "markdown",
   "metadata": {},
   "source": [
    "Treatments 1,2,5, and 6 are controls in the sense that we don't expect to observe any reads matching our rhizobia in them. \"Sterile\" controls are expected to show cross contamination, and are used as a baseline measure for contamination to remove in downstream analysis. Our primary results are likely from the pots with culture mix in them."
   ]
  },
  {
   "cell_type": "code",
   "execution_count": 14,
   "metadata": {},
   "outputs": [
    {
     "name": "stdout",
     "output_type": "stream",
     "text": [
      "20\n",
      "['1', '2', '5', '6', '3', '4', '7', '8', '3', '4', '7', '8', '3', '4', '7', '8', '3', '4', '7', '8']\n"
     ]
    }
   ],
   "source": [
    "weighted_treatment_ids=list(\"1256\"+\"3478\"*4) #Somewhat hacky method of getting the distribution we want\n",
    "print(len(weighted_treatment_ids)) #check that this matches the pots per tray\n",
    "print(weighted_treatment_ids)"
   ]
  },
  {
   "cell_type": "markdown",
   "metadata": {},
   "source": [
    "We can now assign one treatment to each ID by block, removing one of the higher count treatments for each "
   ]
  },
  {
   "cell_type": "code",
   "execution_count": 119,
   "metadata": {},
   "outputs": [
    {
     "name": "stdout",
     "output_type": "stream",
     "text": [
      "Treatment: 4 Amount: 60\n",
      "Treatment: 3 Amount: 60\n",
      "Treatment: 8 Amount: 60\n",
      "Treatment: 7 Amount: 60\n",
      "Treatment: 1 Amount: 16\n",
      "Treatment: 6 Amount: 16\n",
      "Treatment: 5 Amount: 14\n",
      "Treatment: 2 Amount: 16\n",
      "Treatment: B Amount: 16\n",
      "Treatment: C Amount: 2\n"
     ]
    }
   ],
   "source": [
    "import random\n",
    "counter=0\n",
    "removables=list(\"3478\") # things we want to remove to make space for barcodes\n",
    "pot_assignments=dict()\n",
    "pot_treatment_list=[[\"PotID\",\"Treatment\",\"Tray\"]]\n",
    "\n",
    "for tray_id in range(trays_per_gc):\n",
    "    starting_id=(tray_id*20)+1\n",
    "    adjusted_tids=list(weighted_treatment_ids) # make a copy of treatment list\n",
    "    # take one of the removables out of the copied list, in a rotation\n",
    "    # to maintain equal numbers \n",
    "    adjusted_tids.remove(removables[counter]) \n",
    "    if counter <3: # rotate between 0,1,2,3\n",
    "        counter+=1\n",
    "    else:\n",
    "        counter=0\n",
    "    for id_check in color_ids:\n",
    "        if starting_id<=int(id_check)<starting_id+20:\n",
    "            # take out one of the blank sterile pots to make space for color checks\n",
    "            adjusted_tids.remove('5') \n",
    "    #print(adjusted_tids)\n",
    "    #print(len(adjusted_tids))\n",
    "    for pot_id in range(starting_id, starting_id+20):\n",
    "        if str(pot_id) in barcode_pot_ids:\n",
    "            choice='B'\n",
    "        elif str(pot_id) in color_ids:\n",
    "            choice='C'\n",
    "        else:\n",
    "            if adjusted_tids == []: # sanity check\n",
    "                raise ValueError('Ran out of treatment ids to assign!')\n",
    "            # pick a treatment at random\n",
    "            choice=random.choice(adjusted_tids)\n",
    "            # remove treatment from the list copy\n",
    "            adjusted_tids.remove(choice)\n",
    "        pot_assignments[str(pot_id)]=choice\n",
    "        pot_treatment_item = [str(pot_id), choice, str(tray_id+1)]\n",
    "        pot_treatment_list.append(pot_treatment_item)\n",
    "        #print(\"Pot ID \",pot_id,\"assigned treatment\",choice)\n",
    "# confirm numbers of each treatment\n",
    "from collections import Counter\n",
    "char_counts=Counter(pot_assignments.values())\n",
    "plant_treatments=list(\"1234\")\n",
    "pt_count=0\n",
    "culture_treatments=list(\"3478\")\n",
    "ct_count=0\n",
    "soil_treatments=list(\"2468\")\n",
    "st_count=0\n",
    "for char, count in char_counts.items():\n",
    "        print(\"Treatment:\",char,\"Amount:\",count)\n",
    "        if char in plant_treatments:\n",
    "            pt_count+=count\n",
    "        if char in culture_treatments:\n",
    "            ct_count+=count\n",
    "        if char in soil_treatments:\n",
    "            st_count+=count\n"
   ]
  },
  {
   "cell_type": "markdown",
   "metadata": {},
   "source": [
    "## Calculation for planting materials"
   ]
  },
  {
   "cell_type": "code",
   "execution_count": 120,
   "metadata": {},
   "outputs": [
    {
     "name": "stdout",
     "output_type": "stream",
     "text": [
      "Number of plants needed: 152\n",
      "Number of culture doses needed: 240\n",
      "Number of soil slurry doses needed: 152\n",
      "Approx grams of seed needed: 72.96000000000001 g ( 5066 seeds at a 3.0 % success rate )\n",
      "Total culture needed: 480 ml\n",
      "Volume per strain: 96.0 ml ( 32.0 ml each in 3 containers )\n",
      "Total soil slurry needed: 304 ml\n"
     ]
    }
   ],
   "source": [
    "print(\"Number of plants needed:\",pt_count)\n",
    "print(\"Number of culture doses needed:\",ct_count)\n",
    "print(\"Number of soil slurry doses needed:\",st_count)\n",
    "\n",
    "seed_success_rate=0.03\n",
    "g_per_seed = 0.0144\n",
    "\n",
    "print(\"Approx grams of seed needed:\",g_per_seed*(pt_count/seed_success_rate),\"g (\",\n",
    "      int(pt_count/seed_success_rate),\"seeds at a\",seed_success_rate*100,\"% success rate )\")\n",
    "\n",
    "ml_per_dose = 2\n",
    "strains = 5\n",
    "containers = 3\n",
    "\n",
    "print(\"Total culture needed:\", ct_count*ml_per_dose,\"ml\")\n",
    "print(\"Volume per strain:\", (ct_count*ml_per_dose)/strains,\"ml (\", \n",
    "      ((ct_count*ml_per_dose)/strains)/containers,\"ml each in\",containers,\"containers )\")\n",
    "\n",
    "print(\"Total soil slurry needed:\", st_count*ml_per_dose,\"ml\")"
   ]
  },
  {
   "cell_type": "markdown",
   "metadata": {},
   "source": [
    "Having assigned treatments, we can put this back into a CSV grid by replacing pot IDs in a grid"
   ]
  },
  {
   "cell_type": "code",
   "execution_count": 124,
   "metadata": {},
   "outputs": [
    {
     "data": {
      "text/html": [
       "<table>\n",
       "<tbody>\n",
       "<tr><td style=\"text-align: right;\">6</td><td style=\"text-align: right;\">7</td><td style=\"text-align: right;\">8</td><td>B</td><td style=\"text-align: right;\">4</td><td style=\"text-align: right;\">8</td><td style=\"text-align: right;\">4</td><td>B</td><td>4</td><td style=\"text-align: right;\">8</td><td style=\"text-align: right;\">6</td><td>B</td><td style=\"text-align: right;\">2</td><td style=\"text-align: right;\">6</td><td style=\"text-align: right;\">7</td><td>B</td><td style=\"text-align: right;\">7</td><td style=\"text-align: right;\">3</td><td style=\"text-align: right;\">3</td><td>B</td><td style=\"text-align: right;\">7</td><td style=\"text-align: right;\">6</td><td style=\"text-align: right;\">3</td><td>B</td><td>3</td><td style=\"text-align: right;\">7</td><td style=\"text-align: right;\">8</td><td>B</td><td style=\"text-align: right;\">7</td><td style=\"text-align: right;\">6</td><td style=\"text-align: right;\">3</td><td>B</td></tr>\n",
       "<tr><td style=\"text-align: right;\">7</td><td style=\"text-align: right;\">4</td><td style=\"text-align: right;\">7</td><td>4</td><td style=\"text-align: right;\">4</td><td style=\"text-align: right;\">3</td><td style=\"text-align: right;\">3</td><td>7</td><td>8</td><td style=\"text-align: right;\">7</td><td style=\"text-align: right;\">3</td><td>3</td><td style=\"text-align: right;\">3</td><td style=\"text-align: right;\">7</td><td style=\"text-align: right;\">8</td><td>5</td><td style=\"text-align: right;\">4</td><td style=\"text-align: right;\">4</td><td style=\"text-align: right;\">8</td><td>4</td><td style=\"text-align: right;\">2</td><td style=\"text-align: right;\">8</td><td style=\"text-align: right;\">4</td><td>4</td><td>1</td><td style=\"text-align: right;\">8</td><td style=\"text-align: right;\">8</td><td>7</td><td style=\"text-align: right;\">7</td><td style=\"text-align: right;\">3</td><td style=\"text-align: right;\">1</td><td>3</td></tr>\n",
       "<tr><td style=\"text-align: right;\">8</td><td style=\"text-align: right;\">7</td><td style=\"text-align: right;\">8</td><td>2</td><td style=\"text-align: right;\">5</td><td style=\"text-align: right;\">6</td><td style=\"text-align: right;\">7</td><td>3</td><td>7</td><td style=\"text-align: right;\">4</td><td style=\"text-align: right;\">3</td><td>8</td><td style=\"text-align: right;\">3</td><td style=\"text-align: right;\">4</td><td style=\"text-align: right;\">7</td><td>4</td><td style=\"text-align: right;\">2</td><td style=\"text-align: right;\">4</td><td style=\"text-align: right;\">7</td><td>6</td><td style=\"text-align: right;\">8</td><td style=\"text-align: right;\">5</td><td style=\"text-align: right;\">7</td><td>3</td><td>6</td><td style=\"text-align: right;\">3</td><td style=\"text-align: right;\">3</td><td>4</td><td style=\"text-align: right;\">4</td><td style=\"text-align: right;\">7</td><td style=\"text-align: right;\">2</td><td>4</td></tr>\n",
       "<tr><td style=\"text-align: right;\">3</td><td style=\"text-align: right;\">3</td><td style=\"text-align: right;\">1</td><td>5</td><td style=\"text-align: right;\">1</td><td style=\"text-align: right;\">2</td><td style=\"text-align: right;\">7</td><td>8</td><td>1</td><td style=\"text-align: right;\">4</td><td style=\"text-align: right;\">7</td><td>4</td><td style=\"text-align: right;\">4</td><td style=\"text-align: right;\">3</td><td style=\"text-align: right;\">4</td><td>1</td><td style=\"text-align: right;\">7</td><td style=\"text-align: right;\">1</td><td style=\"text-align: right;\">7</td><td>8</td><td style=\"text-align: right;\">1</td><td style=\"text-align: right;\">3</td><td style=\"text-align: right;\">4</td><td>8</td><td>7</td><td style=\"text-align: right;\">2</td><td style=\"text-align: right;\">4</td><td>4</td><td style=\"text-align: right;\">8</td><td style=\"text-align: right;\">7</td><td style=\"text-align: right;\">8</td><td>4</td></tr>\n",
       "<tr><td style=\"text-align: right;\">4</td><td style=\"text-align: right;\">4</td><td style=\"text-align: right;\">8</td><td>3</td><td style=\"text-align: right;\">3</td><td style=\"text-align: right;\">7</td><td style=\"text-align: right;\">8</td><td>8</td><td>C</td><td style=\"text-align: right;\">2</td><td style=\"text-align: right;\">3</td><td>8</td><td style=\"text-align: right;\">8</td><td style=\"text-align: right;\">8</td><td style=\"text-align: right;\">7</td><td>3</td><td style=\"text-align: right;\">3</td><td style=\"text-align: right;\">5</td><td style=\"text-align: right;\">8</td><td>8</td><td style=\"text-align: right;\">7</td><td style=\"text-align: right;\">7</td><td style=\"text-align: right;\">8</td><td>3</td><td>C</td><td style=\"text-align: right;\">3</td><td style=\"text-align: right;\">8</td><td>4</td><td style=\"text-align: right;\">8</td><td style=\"text-align: right;\">3</td><td style=\"text-align: right;\">4</td><td>5</td></tr>\n",
       "<tr><td style=\"text-align: right;\">7</td><td style=\"text-align: right;\">7</td><td style=\"text-align: right;\">4</td><td>B</td><td style=\"text-align: right;\">8</td><td style=\"text-align: right;\">4</td><td style=\"text-align: right;\">7</td><td>B</td><td>1</td><td style=\"text-align: right;\">7</td><td style=\"text-align: right;\">4</td><td>B</td><td style=\"text-align: right;\">8</td><td style=\"text-align: right;\">3</td><td style=\"text-align: right;\">7</td><td>B</td><td style=\"text-align: right;\">4</td><td style=\"text-align: right;\">7</td><td style=\"text-align: right;\">6</td><td>B</td><td style=\"text-align: right;\">7</td><td style=\"text-align: right;\">7</td><td style=\"text-align: right;\">8</td><td>B</td><td>8</td><td style=\"text-align: right;\">8</td><td style=\"text-align: right;\">3</td><td>B</td><td style=\"text-align: right;\">3</td><td style=\"text-align: right;\">5</td><td style=\"text-align: right;\">8</td><td>B</td></tr>\n",
       "<tr><td style=\"text-align: right;\">3</td><td style=\"text-align: right;\">4</td><td style=\"text-align: right;\">5</td><td>2</td><td style=\"text-align: right;\">1</td><td style=\"text-align: right;\">3</td><td style=\"text-align: right;\">7</td><td>5</td><td>3</td><td style=\"text-align: right;\">8</td><td style=\"text-align: right;\">2</td><td>3</td><td style=\"text-align: right;\">4</td><td style=\"text-align: right;\">7</td><td style=\"text-align: right;\">4</td><td>7</td><td style=\"text-align: right;\">7</td><td style=\"text-align: right;\">3</td><td style=\"text-align: right;\">4</td><td>8</td><td style=\"text-align: right;\">8</td><td style=\"text-align: right;\">1</td><td style=\"text-align: right;\">4</td><td>4</td><td>8</td><td style=\"text-align: right;\">1</td><td style=\"text-align: right;\">7</td><td>6</td><td style=\"text-align: right;\">2</td><td style=\"text-align: right;\">6</td><td style=\"text-align: right;\">7</td><td>4</td></tr>\n",
       "<tr><td style=\"text-align: right;\">8</td><td style=\"text-align: right;\">8</td><td style=\"text-align: right;\">6</td><td>8</td><td style=\"text-align: right;\">2</td><td style=\"text-align: right;\">3</td><td style=\"text-align: right;\">4</td><td>6</td><td>5</td><td style=\"text-align: right;\">3</td><td style=\"text-align: right;\">4</td><td>6</td><td style=\"text-align: right;\">4</td><td style=\"text-align: right;\">3</td><td style=\"text-align: right;\">8</td><td>3</td><td style=\"text-align: right;\">3</td><td style=\"text-align: right;\">1</td><td style=\"text-align: right;\">8</td><td>8</td><td style=\"text-align: right;\">3</td><td style=\"text-align: right;\">5</td><td style=\"text-align: right;\">3</td><td>2</td><td>7</td><td style=\"text-align: right;\">4</td><td style=\"text-align: right;\">4</td><td>3</td><td style=\"text-align: right;\">4</td><td style=\"text-align: right;\">7</td><td style=\"text-align: right;\">3</td><td>8</td></tr>\n",
       "<tr><td style=\"text-align: right;\">3</td><td style=\"text-align: right;\">1</td><td style=\"text-align: right;\">4</td><td>8</td><td style=\"text-align: right;\">8</td><td style=\"text-align: right;\">8</td><td style=\"text-align: right;\">3</td><td>3</td><td>8</td><td style=\"text-align: right;\">7</td><td style=\"text-align: right;\">3</td><td>4</td><td style=\"text-align: right;\">1</td><td style=\"text-align: right;\">6</td><td style=\"text-align: right;\">7</td><td>2</td><td style=\"text-align: right;\">4</td><td style=\"text-align: right;\">3</td><td style=\"text-align: right;\">7</td><td>5</td><td style=\"text-align: right;\">4</td><td style=\"text-align: right;\">3</td><td style=\"text-align: right;\">3</td><td>7</td><td>8</td><td style=\"text-align: right;\">5</td><td style=\"text-align: right;\">3</td><td>2</td><td style=\"text-align: right;\">3</td><td style=\"text-align: right;\">3</td><td style=\"text-align: right;\">1</td><td>4</td></tr>\n",
       "<tr><td style=\"text-align: right;\">4</td><td style=\"text-align: right;\">3</td><td style=\"text-align: right;\">7</td><td>7</td><td style=\"text-align: right;\">8</td><td style=\"text-align: right;\">4</td><td style=\"text-align: right;\">7</td><td>7</td><td>4</td><td style=\"text-align: right;\">7</td><td style=\"text-align: right;\">8</td><td>8</td><td style=\"text-align: right;\">5</td><td style=\"text-align: right;\">3</td><td style=\"text-align: right;\">8</td><td>4</td><td style=\"text-align: right;\">4</td><td style=\"text-align: right;\">2</td><td style=\"text-align: right;\">7</td><td>8</td><td style=\"text-align: right;\">8</td><td style=\"text-align: right;\">8</td><td style=\"text-align: right;\">7</td><td>6</td><td>3</td><td style=\"text-align: right;\">4</td><td style=\"text-align: right;\">4</td><td>7</td><td style=\"text-align: right;\">7</td><td style=\"text-align: right;\">8</td><td style=\"text-align: right;\">7</td><td>4</td></tr>\n",
       "</tbody>\n",
       "</table>"
      ],
      "text/plain": [
       "<IPython.core.display.HTML object>"
      ]
     },
     "metadata": {},
     "output_type": "display_data"
    }
   ],
   "source": [
    "import csv\n",
    "\n",
    "pot_treatments=[]\n",
    "\n",
    "# select and replace IDs from a given pot ID layout\n",
    "with open(\"gc_id_layout.csv\", newline='') as pot_layout_file:\n",
    "    pot_layout = csv.reader(pot_layout_file, delimiter=',')\n",
    "    for row in pot_layout:\n",
    "        treatment_row=[]\n",
    "        for item in row:\n",
    "            treatment_row.append(pot_assignments[item])\n",
    "        pot_treatments.append(treatment_row)\n",
    "        #print(row)\n",
    "        #print(treatment_row)\n",
    "        \n",
    "from IPython.display import HTML, display\n",
    "import tabulate\n",
    "#display(HTML(tabulate.tabulate(pot_treatment_list, tablefmt='html')))\n",
    "display(HTML(tabulate.tabulate(pot_treatments, tablefmt='html')))\n",
    "\n",
    "# saves both the layout and the treatment format with tray ID\n",
    "save_config = True\n",
    "if save_config:\n",
    "    with open(\"gc_treatment_layout.csv\", 'w', newline='') as pot_treatment_layout_file:\n",
    "        writer = csv.writer(pot_treatment_layout_file)\n",
    "        writer.writerows(pot_treatments)\n",
    "    with open(\"gc_treatment_list.csv\", 'w', newline='') as pot_treatment_list_file:\n",
    "        writer = csv.writer(pot_treatment_list_file)\n",
    "        writer.writerows(pot_treatment_list)"
   ]
  },
  {
   "cell_type": "code",
   "execution_count": null,
   "metadata": {},
   "outputs": [],
   "source": []
  }
 ],
 "metadata": {
  "kernelspec": {
   "display_name": "Python 3",
   "language": "python",
   "name": "python3"
  },
  "language_info": {
   "codemirror_mode": {
    "name": "ipython",
    "version": 3
   },
   "file_extension": ".py",
   "mimetype": "text/x-python",
   "name": "python",
   "nbconvert_exporter": "python",
   "pygments_lexer": "ipython3",
   "version": "3.6.5"
  }
 },
 "nbformat": 4,
 "nbformat_minor": 2
}
